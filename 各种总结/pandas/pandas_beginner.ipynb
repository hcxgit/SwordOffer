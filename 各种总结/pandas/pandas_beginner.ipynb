{
 "cells": [
  {
   "cell_type": "markdown",
   "metadata": {},
   "source": [
    "# 2天学会Pandas"
   ]
  },
  {
   "cell_type": "markdown",
   "metadata": {},
   "source": [
    "## 目录\n",
    "## 0.导语\n",
    "## 1.Series\n",
    "## 2.DataFrame\n",
    "### 2.1 DataFrame的简单运用\n",
    "\n",
    "## 3.pandas选择数据\n",
    "### 3.1 实战筛选\n",
    "### 3.2 筛选总结\n",
    "\n",
    "## 4.Pandas设置值\n",
    "### 4.1 创建数据\n",
    "### 4.2 根据位置设置loc和iloc\n",
    "### 4.3 根据条件设置\n",
    "### 4.4 按行或列设置\n",
    "### 4.5 添加Series序列(长度必须对齐)\n",
    "### 4.6 设定某行某列为特定值\n",
    "### 4.7 修改一整行数据\n",
    "\n",
    "## 5.Pandas处理丢失数据\n",
    "### 5.1 创建含NaN的矩阵\n",
    "### 5.2 删除掉有NaN的行或列\n",
    "### 5.3 替换NaN值为0或者其他\n",
    "### 5.4 是否有缺失数据NaN\n",
    "\n",
    "## 6.Pandas导入导出\n",
    "### 6.1 导入数据\n",
    "### 6.2 导出数据\n",
    "\n",
    "## 7.Pandas合并操作\n",
    "### 7.1 Pandas合并concat\n",
    "### 7.2.Pandas 合并 merge\n",
    "    *  7.2.1 定义资料集并打印出\n",
    "    *  7.2.2 依据key column合并,并打印\n",
    "    *  7.2.3 两列合并\n",
    "    *  7.2.4 Indicator设置合并列名称\n",
    "    *  7.2.5 依据index合并\n",
    "    *  7.2.6 解决overlapping的问题\n",
    "\n",
    "## 8.Pandas plot出图\n",
    "\n",
    "## 9.学习来源"
   ]
  },
  {
   "cell_type": "markdown",
   "metadata": {},
   "source": [
    "## 0.导语"
   ]
  },
  {
   "cell_type": "markdown",
   "metadata": {},
   "source": [
    "Pandas是基于Numpy构建的，让Numpy为中心的应用变得更加简单。\n",
    "\n",
    "本文作者：光城"
   ]
  },
  {
   "cell_type": "markdown",
   "metadata": {},
   "source": [
    "## 1.Series"
   ]
  },
  {
   "cell_type": "code",
   "execution_count": 6,
   "metadata": {},
   "outputs": [
    {
     "name": "stdout",
     "output_type": "stream",
     "text": [
      "3      1.0\n",
      "4      3.0\n",
      "7      6.0\n",
      "8      NaN\n",
      "9     44.0\n",
      "10     1.0\n",
      "dtype: float64\n"
     ]
    }
   ],
   "source": [
    "import pandas as pd\n",
    "import numpy as np\n",
    "\n",
    "# Series\n",
    "s = pd.Series([1,3,6,np.nan,44,1],index=[3,4,7,8,9,10])\n",
    "#s.index=[3,4,7,8,9,10]\n",
    "print(s)\n",
    "# 默认index从0开始,如果想要按照自己的索引设置，则修改index参数,如:index=[3,4,3,7,8,9]"
   ]
  },
  {
   "cell_type": "code",
   "execution_count": null,
   "metadata": {},
   "outputs": [],
   "source": []
  },
  {
   "cell_type": "markdown",
   "metadata": {},
   "source": [
    "## 2.DataFrame"
   ]
  },
  {
   "cell_type": "markdown",
   "metadata": {},
   "source": [
    "### 2.1 DataFrame的简单运用"
   ]
  },
  {
   "cell_type": "code",
   "execution_count": 7,
   "metadata": {},
   "outputs": [
    {
     "name": "stdout",
     "output_type": "stream",
     "text": [
      "DatetimeIndex(['2018-08-19', '2018-08-20', '2018-08-21', '2018-08-22',\n",
      "               '2018-08-23', '2018-08-24'],\n",
      "              dtype='datetime64[ns]', freq='D')\n",
      "                   a         b         c         d\n",
      "2018-08-19  0.647476  0.650785  0.979540  0.526683\n",
      "2018-08-20 -0.042918 -1.149729  0.126471  1.079599\n",
      "2018-08-21  0.946744  2.020011 -0.567304  0.728373\n",
      "2018-08-22 -1.370237 -1.367362 -0.233971 -0.675071\n",
      "2018-08-23 -0.507987  0.333944 -2.850984 -0.136991\n",
      "2018-08-24  0.071807 -0.091858  1.522425 -0.264770\n"
     ]
    }
   ],
   "source": [
    "# DataFrame\n",
    "dates = pd.date_range('2018-08-19',periods=6)\n",
    "#dates = pd.date_range('2018-08-19','2018-08-24') # 起始、结束  与上述等价\n",
    "print(dates)\n",
    "'''\n",
    "numpy.random.randn(d0, d1, …, dn)是从标准正态分布中返回一个或多个样本值。\n",
    "numpy.random.rand(d0, d1, …, dn)的随机样本位于[0, 1)中。\n",
    "(6,4)表示6行4列数据\n",
    "'''\n",
    "df = pd.DataFrame(np.random.randn(6,4),index=dates,columns=['a','b','c','d'])\n",
    "print(df)\n",
    "# DataFrame既有行索引也有列索引， 它可以被看做由Series组成的大字典。"
   ]
  },
  {
   "cell_type": "code",
   "execution_count": 8,
   "metadata": {},
   "outputs": [
    {
     "name": "stdout",
     "output_type": "stream",
     "text": [
      "2018-08-19    0.650785\n",
      "2018-08-20   -1.149729\n",
      "2018-08-21    2.020011\n",
      "2018-08-22   -1.367362\n",
      "2018-08-23    0.333944\n",
      "2018-08-24   -0.091858\n",
      "Freq: D, Name: b, dtype: float64\n"
     ]
    }
   ],
   "source": [
    "print(df['b'])"
   ]
  },
  {
   "cell_type": "code",
   "execution_count": 9,
   "metadata": {},
   "outputs": [
    {
     "name": "stdout",
     "output_type": "stream",
     "text": [
      "   0  1   2   3\n",
      "0  0  1   2   3\n",
      "1  4  5   6   7\n",
      "2  8  9  10  11\n"
     ]
    }
   ],
   "source": [
    "# 未指定行标签和列标签的数据\n",
    "df1 = pd.DataFrame(np.arange(12).reshape(3,4))\n",
    "print(df1)"
   ]
  },
  {
   "cell_type": "code",
   "execution_count": 14,
   "metadata": {},
   "outputs": [
    {
     "name": "stdout",
     "output_type": "stream",
     "text": [
      "   A          B     C  D      E    F\n",
      "0  1 2018-08-19   1.0  3   test  foo\n",
      "1  2 2018-08-19   6.0  3  train  foo\n",
      "2  3 2018-08-19   9.0  3   test  foo\n",
      "3  4 2018-08-19  10.0  3  train  foo\n"
     ]
    }
   ],
   "source": [
    "# 另一种方式 字典的格式，key作为列索引\n",
    "df2 = pd.DataFrame({\n",
    "    'A': [1,2,3,4],\n",
    "    'B': pd.Timestamp('20180819'),\n",
    "    'C': pd.Series([1,6,9,10],dtype='float32'),\n",
    "    'D': np.array([3] * 4,dtype='int32'),\n",
    "    'E': pd.Categorical(['test','train','test','train']),\n",
    "    'F': 'foo'\n",
    "})\n",
    "print(df2)"
   ]
  },
  {
   "cell_type": "code",
   "execution_count": 15,
   "metadata": {},
   "outputs": [
    {
     "name": "stdout",
     "output_type": "stream",
     "text": [
      "RangeIndex(start=0, stop=4, step=1)\n"
     ]
    }
   ],
   "source": [
    "print(df2.index)"
   ]
  },
  {
   "cell_type": "code",
   "execution_count": 16,
   "metadata": {},
   "outputs": [
    {
     "name": "stdout",
     "output_type": "stream",
     "text": [
      "Index(['A', 'B', 'C', 'D', 'E', 'F'], dtype='object')\n"
     ]
    }
   ],
   "source": [
    "print(df2.columns)"
   ]
  },
  {
   "cell_type": "code",
   "execution_count": 17,
   "metadata": {},
   "outputs": [
    {
     "name": "stdout",
     "output_type": "stream",
     "text": [
      "[[1 Timestamp('2018-08-19 00:00:00') 1.0 3 'test' 'foo']\n",
      " [2 Timestamp('2018-08-19 00:00:00') 6.0 3 'train' 'foo']\n",
      " [3 Timestamp('2018-08-19 00:00:00') 9.0 3 'test' 'foo']\n",
      " [4 Timestamp('2018-08-19 00:00:00') 10.0 3 'train' 'foo']]\n"
     ]
    }
   ],
   "source": [
    "print(df2.values)"
   ]
  },
  {
   "cell_type": "code",
   "execution_count": 18,
   "metadata": {},
   "outputs": [
    {
     "name": "stdout",
     "output_type": "stream",
     "text": [
      "              A          C    D\n",
      "count  4.000000   4.000000  4.0\n",
      "mean   2.500000   6.500000  3.0\n",
      "std    1.290994   4.041452  0.0\n",
      "min    1.000000   1.000000  3.0\n",
      "25%    1.750000   4.750000  3.0\n",
      "50%    2.500000   7.500000  3.0\n",
      "75%    3.250000   9.250000  3.0\n",
      "max    4.000000  10.000000  3.0\n"
     ]
    }
   ],
   "source": [
    "# 数据总结\n",
    "print(df2.describe())"
   ]
  },
  {
   "cell_type": "code",
   "execution_count": 19,
   "metadata": {},
   "outputs": [
    {
     "name": "stdout",
     "output_type": "stream",
     "text": [
      "                     0                    1                    2  \\\n",
      "A                    1                    2                    3   \n",
      "B  2018-08-19 00:00:00  2018-08-19 00:00:00  2018-08-19 00:00:00   \n",
      "C                    1                    6                    9   \n",
      "D                    3                    3                    3   \n",
      "E                 test                train                 test   \n",
      "F                  foo                  foo                  foo   \n",
      "\n",
      "                     3  \n",
      "A                    4  \n",
      "B  2018-08-19 00:00:00  \n",
      "C                   10  \n",
      "D                    3  \n",
      "E                train  \n",
      "F                  foo  \n"
     ]
    }
   ],
   "source": [
    "# 翻转数据\n",
    "print(df2.T)\n",
    "# print(np.transpose(df2))等价于上述操作"
   ]
  },
  {
   "cell_type": "code",
   "execution_count": 103,
   "metadata": {},
   "outputs": [
    {
     "name": "stdout",
     "output_type": "stream",
     "text": [
      "   A          B     C  D      E    F\n",
      "0  1 2018-08-19   1.0  3   test  foo\n",
      "1  2 2018-08-19   6.0  3  train  foo\n",
      "2  3 2018-08-19   9.0  3   test  foo\n",
      "3  4 2018-08-19  10.0  3  train  foo\n"
     ]
    }
   ],
   "source": [
    "'''\n",
    "axis=0表示行\n",
    "axis=1表示列\n",
    "默认ascending(升序)为True\n",
    "ascending=True表示升序,ascending=False表示降序\n",
    "'''\n",
    "print(df2.sort_index(axis=1,ascending=True))"
   ]
  },
  {
   "cell_type": "code",
   "execution_count": 104,
   "metadata": {},
   "outputs": [
    {
     "name": "stdout",
     "output_type": "stream",
     "text": [
      "     F      E  D     C          B  A\n",
      "0  foo   test  3   1.0 2018-08-19  1\n",
      "1  foo  train  3   6.0 2018-08-19  2\n",
      "2  foo   test  3   9.0 2018-08-19  3\n",
      "3  foo  train  3  10.0 2018-08-19  4\n"
     ]
    }
   ],
   "source": [
    "# axis=1 按列索引排列\n",
    "print(df2.sort_index(axis=1,ascending=False))"
   ]
  },
  {
   "cell_type": "code",
   "execution_count": 22,
   "metadata": {},
   "outputs": [
    {
     "name": "stdout",
     "output_type": "stream",
     "text": [
      "   A          B     C  D      E    F\n",
      "3  4 2018-08-19  10.0  3  train  foo\n",
      "2  3 2018-08-19   9.0  3   test  foo\n",
      "1  2 2018-08-19   6.0  3  train  foo\n",
      "0  1 2018-08-19   1.0  3   test  foo\n"
     ]
    }
   ],
   "source": [
    "# 表示按行索引降序\n",
    "print(df2.sort_index(axis=0,ascending=False))"
   ]
  },
  {
   "cell_type": "code",
   "execution_count": 23,
   "metadata": {},
   "outputs": [
    {
     "name": "stdout",
     "output_type": "stream",
     "text": [
      "   A          B     C  D      E    F\n",
      "0  1 2018-08-19   1.0  3   test  foo\n",
      "1  2 2018-08-19   6.0  3  train  foo\n",
      "2  3 2018-08-19   9.0  3   test  foo\n",
      "3  4 2018-08-19  10.0  3  train  foo\n"
     ]
    }
   ],
   "source": [
    "print(df2.sort_index(axis=0,ascending=True))"
   ]
  },
  {
   "cell_type": "code",
   "execution_count": 25,
   "metadata": {},
   "outputs": [
    {
     "name": "stdout",
     "output_type": "stream",
     "text": [
      "   A          B     C  D      E    F\n",
      "3  4 2018-08-19  10.0  3  train  foo\n",
      "2  3 2018-08-19   9.0  3   test  foo\n",
      "1  2 2018-08-19   6.0  3  train  foo\n",
      "0  1 2018-08-19   1.0  3   test  foo\n"
     ]
    }
   ],
   "source": [
    "# sort_values 按数值排列\n",
    "# 表示对C列降序排列\n",
    "print(df2.sort_values(by='C',ascending=False))"
   ]
  },
  {
   "cell_type": "markdown",
   "metadata": {},
   "source": [
    "## 3.pandas选择数据"
   ]
  },
  {
   "cell_type": "markdown",
   "metadata": {},
   "source": [
    "### 3.1 实战筛选"
   ]
  },
  {
   "cell_type": "code",
   "execution_count": 26,
   "metadata": {},
   "outputs": [
    {
     "name": "stdout",
     "output_type": "stream",
     "text": [
      "             A   B   C   D\n",
      "2018-08-19   0   1   2   3\n",
      "2018-08-20   4   5   6   7\n",
      "2018-08-21   8   9  10  11\n",
      "2018-08-22  12  13  14  15\n",
      "2018-08-23  16  17  18  19\n",
      "2018-08-24  20  21  22  23\n"
     ]
    }
   ],
   "source": [
    "import pandas as pd\n",
    "import numpy as np\n",
    "dates = pd.date_range('20180819', periods=6)\n",
    "df = pd.DataFrame(np.arange(24).reshape((6,4)),index=dates, columns=['A','B','C','D'])\n",
    "print(df)"
   ]
  },
  {
   "cell_type": "code",
   "execution_count": 27,
   "metadata": {},
   "outputs": [
    {
     "name": "stdout",
     "output_type": "stream",
     "text": [
      "2018-08-19     0\n",
      "2018-08-20     4\n",
      "2018-08-21     8\n",
      "2018-08-22    12\n",
      "2018-08-23    16\n",
      "2018-08-24    20\n",
      "Freq: D, Name: A, dtype: int32\n"
     ]
    }
   ],
   "source": [
    "# 检索A列\n",
    "print(df['A'])"
   ]
  },
  {
   "cell_type": "code",
   "execution_count": 28,
   "metadata": {},
   "outputs": [
    {
     "name": "stdout",
     "output_type": "stream",
     "text": [
      "2018-08-19     0\n",
      "2018-08-20     4\n",
      "2018-08-21     8\n",
      "2018-08-22    12\n",
      "2018-08-23    16\n",
      "2018-08-24    20\n",
      "Freq: D, Name: A, dtype: int32\n"
     ]
    }
   ],
   "source": [
    "print(df.A)"
   ]
  },
  {
   "cell_type": "code",
   "execution_count": 29,
   "metadata": {},
   "outputs": [
    {
     "name": "stdout",
     "output_type": "stream",
     "text": [
      "            A  B   C   D\n",
      "2018-08-19  0  1   2   3\n",
      "2018-08-20  4  5   6   7\n",
      "2018-08-21  8  9  10  11\n"
     ]
    }
   ],
   "source": [
    "# 选择跨越多行或多列\n",
    "# 选取前3行\n",
    "print(df[0:3])"
   ]
  },
  {
   "cell_type": "code",
   "execution_count": 30,
   "metadata": {},
   "outputs": [
    {
     "name": "stdout",
     "output_type": "stream",
     "text": [
      "            A  B   C   D\n",
      "2018-08-19  0  1   2   3\n",
      "2018-08-20  4  5   6   7\n",
      "2018-08-21  8  9  10  11\n"
     ]
    }
   ],
   "source": [
    "print(df['2018-08-19':'2018-08-21'])"
   ]
  },
  {
   "cell_type": "code",
   "execution_count": 41,
   "metadata": {},
   "outputs": [
    {
     "name": "stdout",
     "output_type": "stream",
     "text": [
      "A    0\n",
      "B    1\n",
      "C    2\n",
      "D    3\n",
      "Name: 2018-08-19 00:00:00, dtype: int32\n"
     ]
    }
   ],
   "source": [
    "# 根据标签选择数据\n",
    "\n",
    "# 指定行数据\n",
    "print(df.loc['20180819'])"
   ]
  },
  {
   "cell_type": "code",
   "execution_count": 37,
   "metadata": {},
   "outputs": [
    {
     "name": "stdout",
     "output_type": "stream",
     "text": [
      "             A   B\n",
      "2018-08-19   0   1\n",
      "2018-08-20   4   5\n",
      "2018-08-21   8   9\n",
      "2018-08-22  12  13\n",
      "2018-08-23  16  17\n",
      "2018-08-24  20  21\n"
     ]
    }
   ],
   "source": [
    "# 指定列\n",
    "\n",
    "# 两种方式\n",
    "print(df.loc[:,'A':'B'])"
   ]
  },
  {
   "cell_type": "code",
   "execution_count": 38,
   "metadata": {},
   "outputs": [
    {
     "name": "stdout",
     "output_type": "stream",
     "text": [
      "             A   B\n",
      "2018-08-19   0   1\n",
      "2018-08-20   4   5\n",
      "2018-08-21   8   9\n",
      "2018-08-22  12  13\n",
      "2018-08-23  16  17\n",
      "2018-08-24  20  21\n"
     ]
    }
   ],
   "source": [
    "print(df.loc[:,['A','B']])"
   ]
  },
  {
   "cell_type": "code",
   "execution_count": 40,
   "metadata": {},
   "outputs": [
    {
     "name": "stdout",
     "output_type": "stream",
     "text": [
      "A    0\n",
      "B    1\n",
      "Name: 2018-08-19 00:00:00, dtype: int32\n"
     ]
    }
   ],
   "source": [
    "# 行与列同时检索\n",
    "print(df.loc['20180819',['A','B']])"
   ]
  },
  {
   "cell_type": "code",
   "execution_count": 68,
   "metadata": {},
   "outputs": [
    {
     "name": "stdout",
     "output_type": "stream",
     "text": [
      "13\n"
     ]
    }
   ],
   "source": [
    "# 根据序列iloc\n",
    "\n",
    "# 获取特定位置的值\n",
    "print(df.iloc[3,1])"
   ]
  },
  {
   "cell_type": "code",
   "execution_count": 43,
   "metadata": {},
   "outputs": [
    {
     "name": "stdout",
     "output_type": "stream",
     "text": [
      "             B   C\n",
      "2018-08-22  13  14\n",
      "2018-08-23  17  18\n"
     ]
    }
   ],
   "source": [
    "print(df.iloc[3:5,1:3]) # 不包含末尾5或3，同列表切片"
   ]
  },
  {
   "cell_type": "code",
   "execution_count": 44,
   "metadata": {},
   "outputs": [
    {
     "name": "stdout",
     "output_type": "stream",
     "text": [
      "             B   C\n",
      "2018-08-20   5   6\n",
      "2018-08-22  13  14\n",
      "2018-08-24  21  22\n"
     ]
    }
   ],
   "source": [
    "# 跨行操作\n",
    "print(df.iloc[[1,3,5],1:3])"
   ]
  },
  {
   "cell_type": "code",
   "execution_count": 61,
   "metadata": {},
   "outputs": [
    {
     "name": "stdout",
     "output_type": "stream",
     "text": [
      "             A   C\n",
      "2018-08-19   0   2\n",
      "2018-08-20   4   6\n",
      "2018-08-21   8  10\n",
      "2018-08-22  12  14\n",
      "2018-08-23  16  18\n",
      "2018-08-24  20  22\n"
     ]
    },
    {
     "name": "stderr",
     "output_type": "stream",
     "text": [
      "C:\\Anaconda3\\lib\\site-packages\\ipykernel_launcher.py:2: DeprecationWarning: \n",
      ".ix is deprecated. Please use\n",
      ".loc for label based indexing or\n",
      ".iloc for positional indexing\n",
      "\n",
      "See the documentation here:\n",
      "http://pandas.pydata.org/pandas-docs/stable/indexing.html#ix-indexer-is-deprecated\n",
      "  \n"
     ]
    }
   ],
   "source": [
    "# 混合选择\n",
    "print(df.ix[:3,['A','C']])"
   ]
  },
  {
   "cell_type": "code",
   "execution_count": 70,
   "metadata": {},
   "outputs": [
    {
     "name": "stdout",
     "output_type": "stream",
     "text": [
      "            A   C\n",
      "2018-08-19  0   2\n",
      "2018-08-20  4   6\n",
      "2018-08-21  8  10\n",
      "            A   C\n",
      "2018-08-19  0   2\n",
      "2018-08-20  4   6\n",
      "2018-08-21  8  10\n"
     ]
    }
   ],
   "source": [
    "print(df.iloc[:3,[0,2]]) # 结果同上\n",
    "print(df.loc[:'20180821',['A','C']])  # loc只能对索引操作，不能 1：3这种, iloc只能直接按照多少行列取，不能用索引"
   ]
  },
  {
   "cell_type": "code",
   "execution_count": 57,
   "metadata": {},
   "outputs": [
    {
     "name": "stdout",
     "output_type": "stream",
     "text": [
      "             A   B   C   D\n",
      "2018-08-22  12  13  14  15\n",
      "2018-08-23  16  17  18  19\n",
      "2018-08-24  20  21  22  23\n"
     ]
    }
   ],
   "source": [
    "# 通过判断的筛选\n",
    "# print(df.A>8)\n",
    "print(df[df.A>8])"
   ]
  },
  {
   "cell_type": "code",
   "execution_count": 58,
   "metadata": {},
   "outputs": [
    {
     "name": "stdout",
     "output_type": "stream",
     "text": [
      "             A   B   C   D\n",
      "2018-08-22  12  13  14  15\n",
      "2018-08-23  16  17  18  19\n",
      "2018-08-24  20  21  22  23\n"
     ]
    }
   ],
   "source": [
    "# 通过判断的筛选\n",
    "print(df.loc[df.A>8])"
   ]
  },
  {
   "cell_type": "markdown",
   "metadata": {},
   "source": [
    "* 3.2 筛选总结"
   ]
  },
  {
   "cell_type": "markdown",
   "metadata": {},
   "source": [
    "1.iloc与ix区别\n",
    "  > 总结:相同点：iloc可以取相应的值，操作方便,与ix操作类似。\n",
    "  \n",
    "  > 不同点：ix可以混合选择，可以填入column对应的字符选择，而iloc只能采用index索引，对于列数较多情况下，ix要方便操作许多。\n",
    "  \n",
    "2.loc与iloc区别\n",
    "  > 总结：相同点：都可以索引处块数据\n",
    "  \n",
    "  > 不同点：iloc可以检索对应值,两者操作不同。 loc只能对索引操作，不能 1：3这种直接取行列，iloc只能直接按照多少行列取，不能用索引\n",
    "  \n",
    "3.ix与loc、iloc三者的区别\n",
    "  > n总结：ix是混合loc与iloc操作\n",
    "  \n",
    "如下:对比三者操作,输出结果相同"
   ]
  },
  {
   "cell_type": "code",
   "execution_count": 78,
   "metadata": {},
   "outputs": [
    {
     "name": "stdout",
     "output_type": "stream",
     "text": [
      "A    0\n",
      "B    1\n",
      "Name: 2018-08-19 00:00:00, dtype: int32\n",
      "A    0\n",
      "B    1\n",
      "Name: 2018-08-19 00:00:00, dtype: int32\n",
      "A    0\n",
      "B    1\n",
      "Name: 2018-08-19 00:00:00, dtype: int32\n"
     ]
    },
    {
     "name": "stderr",
     "output_type": "stream",
     "text": [
      "C:\\Anaconda3\\lib\\site-packages\\ipykernel_launcher.py:3: DeprecationWarning: \n",
      ".ix is deprecated. Please use\n",
      ".loc for label based indexing or\n",
      ".iloc for positional indexing\n",
      "\n",
      "See the documentation here:\n",
      "http://pandas.pydata.org/pandas-docs/stable/indexing.html#ix-indexer-is-deprecated\n",
      "  This is separate from the ipykernel package so we can avoid doing imports until\n"
     ]
    }
   ],
   "source": [
    "print(df.loc['20180819','A':'B'])\n",
    "print(df.iloc[0,0:2])\n",
    "print(df.ix[0,'A':'B'])"
   ]
  },
  {
   "cell_type": "markdown",
   "metadata": {},
   "source": [
    "## 4.Pandas设置值"
   ]
  },
  {
   "cell_type": "markdown",
   "metadata": {},
   "source": [
    "### 4.1 创建数据"
   ]
  },
  {
   "cell_type": "code",
   "execution_count": 83,
   "metadata": {},
   "outputs": [
    {
     "name": "stdout",
     "output_type": "stream",
     "text": [
      "             A   B   C   D\n",
      "2018-08-20   0   1   2   3\n",
      "2018-08-21   4   5   6   7\n",
      "2018-08-22   8   9  10  11\n",
      "2018-08-23  12  13  14  15\n",
      "2018-08-24  16  17  18  19\n",
      "2018-08-25  20  21  22  23\n"
     ]
    }
   ],
   "source": [
    "import pandas as pd\n",
    "import numpy as np\n",
    "# 创建数据\n",
    "dates = pd.date_range('20180820',periods=6)\n",
    "df = pd.DataFrame(np.arange(24).reshape(6,4), index=dates, columns=['A','B','C','D'])\n",
    "print(df)"
   ]
  },
  {
   "cell_type": "markdown",
   "metadata": {},
   "source": [
    "### 4.2 根据位置设置loc和iloc"
   ]
  },
  {
   "cell_type": "code",
   "execution_count": 84,
   "metadata": {},
   "outputs": [
    {
     "name": "stdout",
     "output_type": "stream",
     "text": [
      "             A     B    C   D\n",
      "2018-08-20   0  2222    2   3\n",
      "2018-08-21   4     5    6   7\n",
      "2018-08-22   8     9  111  11\n",
      "2018-08-23  12    13   14  15\n",
      "2018-08-24  16    17   18  19\n",
      "2018-08-25  20    21   22  23\n"
     ]
    }
   ],
   "source": [
    "# 根据位置设置loc和iloc\n",
    "df.iloc[2,2] = 111\n",
    "df.loc['20180820','B'] = 2222\n",
    "print(df)"
   ]
  },
  {
   "cell_type": "markdown",
   "metadata": {},
   "source": [
    "### 4.3 根据条件设置"
   ]
  },
  {
   "cell_type": "code",
   "execution_count": 81,
   "metadata": {},
   "outputs": [
    {
     "name": "stdout",
     "output_type": "stream",
     "text": [
      "             A     B    C   D\n",
      "2018-08-20   0  2222    2   3\n",
      "2018-08-21   4     5    6   7\n",
      "2018-08-22   8     0  111  11\n",
      "2018-08-23  12     0   14  15\n",
      "2018-08-24  16     0   18  19\n",
      "2018-08-25  20     0   22  23\n"
     ]
    }
   ],
   "source": [
    "# 根据条件设置\n",
    "# 更改B中的数，而更改的位置取决于4的位置，并设相应位置的数为0\n",
    "df.B[df.A>4] = 0\n",
    "print(df)"
   ]
  },
  {
   "cell_type": "code",
   "execution_count": 85,
   "metadata": {},
   "outputs": [
    {
     "name": "stdout",
     "output_type": "stream",
     "text": [
      "             A     B    C   D\n",
      "2018-08-20   0  2222    2   3\n",
      "2018-08-21   4     5    6   7\n",
      "2018-08-22   8     0  111  11\n",
      "2018-08-23  12     0   14  15\n",
      "2018-08-24  16     0   18  19\n",
      "2018-08-25  20     0   22  23\n"
     ]
    }
   ],
   "source": [
    "df.B.loc[df.A>4] = 0\n",
    "print(df)"
   ]
  },
  {
   "cell_type": "markdown",
   "metadata": {},
   "source": [
    "### 4.4 按行或列设置"
   ]
  },
  {
   "cell_type": "code",
   "execution_count": 86,
   "metadata": {},
   "outputs": [
    {
     "name": "stdout",
     "output_type": "stream",
     "text": [
      "             A     B    C   D   F\n",
      "2018-08-20   0  2222    2   3 NaN\n",
      "2018-08-21   4     5    6   7 NaN\n",
      "2018-08-22   8     0  111  11 NaN\n",
      "2018-08-23  12     0   14  15 NaN\n",
      "2018-08-24  16     0   18  19 NaN\n",
      "2018-08-25  20     0   22  23 NaN\n"
     ]
    }
   ],
   "source": [
    "# 按行或列设置\n",
    "# 列批处理，F列全改为NaN\n",
    "df['F'] = np.nan\n",
    "print(df)"
   ]
  },
  {
   "cell_type": "markdown",
   "metadata": {},
   "source": [
    "### 4.5 添加Series序列(长度必须对齐)"
   ]
  },
  {
   "cell_type": "code",
   "execution_count": 87,
   "metadata": {},
   "outputs": [
    {
     "name": "stdout",
     "output_type": "stream",
     "text": [
      "             A     B    C   D   F  E\n",
      "2018-08-20   0  2222    2   3 NaN  1\n",
      "2018-08-21   4     5    6   7 NaN  2\n",
      "2018-08-22   8     0  111  11 NaN  3\n",
      "2018-08-23  12     0   14  15 NaN  4\n",
      "2018-08-24  16     0   18  19 NaN  5\n",
      "2018-08-25  20     0   22  23 NaN  6\n"
     ]
    }
   ],
   "source": [
    "df['E'] = pd.Series([1,2,3,4,5,6], index=pd.date_range('20180820',periods=6))\n",
    "print(df)"
   ]
  },
  {
   "cell_type": "markdown",
   "metadata": {},
   "source": [
    "### 4.6 设定某行某列为特定值"
   ]
  },
  {
   "cell_type": "code",
   "execution_count": 89,
   "metadata": {},
   "outputs": [
    {
     "name": "stdout",
     "output_type": "stream",
     "text": [
      "             A     B    C   D   F  E\n",
      "2018-08-20  56  2222    2   3 NaN  1\n",
      "2018-08-21   4     5    6   7 NaN  2\n",
      "2018-08-22   8     0  111  11 NaN  3\n",
      "2018-08-23  12     0   14  15 NaN  4\n",
      "2018-08-24  16     0   18  19 NaN  5\n",
      "2018-08-25  20     0   22  23 NaN  6\n"
     ]
    },
    {
     "name": "stderr",
     "output_type": "stream",
     "text": [
      "C:\\Anaconda3\\lib\\site-packages\\ipykernel_launcher.py:2: DeprecationWarning: \n",
      ".ix is deprecated. Please use\n",
      ".loc for label based indexing or\n",
      ".iloc for positional indexing\n",
      "\n",
      "See the documentation here:\n",
      "http://pandas.pydata.org/pandas-docs/stable/indexing.html#ix-indexer-is-deprecated\n",
      "  \n"
     ]
    }
   ],
   "source": [
    "# 设定某行某列为特定值\n",
    "df.ix['20180820','A'] = 56\n",
    "print(df)\n",
    "#ix 以后要剥离了，尽量不要用了"
   ]
  },
  {
   "cell_type": "code",
   "execution_count": 90,
   "metadata": {},
   "outputs": [
    {
     "name": "stdout",
     "output_type": "stream",
     "text": [
      "             A     B    C   D   F  E\n",
      "2018-08-20  67  2222    2   3 NaN  1\n",
      "2018-08-21   4     5    6   7 NaN  2\n",
      "2018-08-22   8     0  111  11 NaN  3\n",
      "2018-08-23  12     0   14  15 NaN  4\n",
      "2018-08-24  16     0   18  19 NaN  5\n",
      "2018-08-25  20     0   22  23 NaN  6\n"
     ]
    }
   ],
   "source": [
    "df.loc['20180820','A'] = 67\n",
    "print(df)"
   ]
  },
  {
   "cell_type": "code",
   "execution_count": 91,
   "metadata": {},
   "outputs": [
    {
     "name": "stdout",
     "output_type": "stream",
     "text": [
      "             A     B    C   D   F  E\n",
      "2018-08-20  76  2222    2   3 NaN  1\n",
      "2018-08-21   4     5    6   7 NaN  2\n",
      "2018-08-22   8     0  111  11 NaN  3\n",
      "2018-08-23  12     0   14  15 NaN  4\n",
      "2018-08-24  16     0   18  19 NaN  5\n",
      "2018-08-25  20     0   22  23 NaN  6\n"
     ]
    }
   ],
   "source": [
    "df.iloc[0,0] = 76\n",
    "print(df)"
   ]
  },
  {
   "cell_type": "markdown",
   "metadata": {},
   "source": [
    "### 4.7 修改一整行数据"
   ]
  },
  {
   "cell_type": "code",
   "execution_count": 92,
   "metadata": {},
   "outputs": [
    {
     "name": "stdout",
     "output_type": "stream",
     "text": [
      "               A       B      C     D   F    E\n",
      "2018-08-20  76.0  2222.0    2.0   3.0 NaN  1.0\n",
      "2018-08-21   NaN     NaN    NaN   NaN NaN  NaN\n",
      "2018-08-22   8.0     0.0  111.0  11.0 NaN  3.0\n",
      "2018-08-23  12.0     0.0   14.0  15.0 NaN  4.0\n",
      "2018-08-24  16.0     0.0   18.0  19.0 NaN  5.0\n",
      "2018-08-25  20.0     0.0   22.0  23.0 NaN  6.0\n"
     ]
    }
   ],
   "source": [
    "# 修改一整行数据\n",
    "df.iloc[1] = np.nan # df.iloc[1,:]=np.nan\n",
    "print(df) "
   ]
  },
  {
   "cell_type": "code",
   "execution_count": 93,
   "metadata": {},
   "outputs": [
    {
     "name": "stdout",
     "output_type": "stream",
     "text": [
      "               A    B      C     D   F    E\n",
      "2018-08-20   NaN  NaN    NaN   NaN NaN  NaN\n",
      "2018-08-21   NaN  NaN    NaN   NaN NaN  NaN\n",
      "2018-08-22   8.0  0.0  111.0  11.0 NaN  3.0\n",
      "2018-08-23  12.0  0.0   14.0  15.0 NaN  4.0\n",
      "2018-08-24  16.0  0.0   18.0  19.0 NaN  5.0\n",
      "2018-08-25  20.0  0.0   22.0  23.0 NaN  6.0\n"
     ]
    }
   ],
   "source": [
    "df.loc['20180820'] = np.nan # df.loc['20180820,:']=np.nan\n",
    "print(df)"
   ]
  },
  {
   "cell_type": "code",
   "execution_count": 94,
   "metadata": {},
   "outputs": [
    {
     "name": "stdout",
     "output_type": "stream",
     "text": [
      "               A    B     C     D   F    E\n",
      "2018-08-20   NaN  NaN   NaN   NaN NaN  NaN\n",
      "2018-08-21   NaN  NaN   NaN   NaN NaN  NaN\n",
      "2018-08-22   NaN  NaN   NaN   NaN NaN  NaN\n",
      "2018-08-23  12.0  0.0  14.0  15.0 NaN  4.0\n",
      "2018-08-24  16.0  0.0  18.0  19.0 NaN  5.0\n",
      "2018-08-25  20.0  0.0  22.0  23.0 NaN  6.0\n"
     ]
    },
    {
     "name": "stderr",
     "output_type": "stream",
     "text": [
      "C:\\Anaconda3\\lib\\site-packages\\ipykernel_launcher.py:1: DeprecationWarning: \n",
      ".ix is deprecated. Please use\n",
      ".loc for label based indexing or\n",
      ".iloc for positional indexing\n",
      "\n",
      "See the documentation here:\n",
      "http://pandas.pydata.org/pandas-docs/stable/indexing.html#ix-indexer-is-deprecated\n",
      "  \"\"\"Entry point for launching an IPython kernel.\n"
     ]
    }
   ],
   "source": [
    "df.ix[2] = np.nan # df.ix[2,:]=np.nan\n",
    "print(df)"
   ]
  },
  {
   "cell_type": "code",
   "execution_count": 95,
   "metadata": {},
   "outputs": [
    {
     "name": "stdout",
     "output_type": "stream",
     "text": [
      "               A    B     C     D   F    E\n",
      "2018-08-20   NaN  NaN   NaN   NaN NaN  NaN\n",
      "2018-08-21   NaN  NaN   NaN   NaN NaN  NaN\n",
      "2018-08-22   NaN  NaN   NaN   NaN NaN  NaN\n",
      "2018-08-23   NaN  NaN   NaN   NaN NaN  NaN\n",
      "2018-08-24  16.0  0.0  18.0  19.0 NaN  5.0\n",
      "2018-08-25  20.0  0.0  22.0  23.0 NaN  6.0\n"
     ]
    },
    {
     "name": "stderr",
     "output_type": "stream",
     "text": [
      "C:\\Anaconda3\\lib\\site-packages\\ipykernel_launcher.py:1: DeprecationWarning: \n",
      ".ix is deprecated. Please use\n",
      ".loc for label based indexing or\n",
      ".iloc for positional indexing\n",
      "\n",
      "See the documentation here:\n",
      "http://pandas.pydata.org/pandas-docs/stable/indexing.html#ix-indexer-is-deprecated\n",
      "  \"\"\"Entry point for launching an IPython kernel.\n"
     ]
    }
   ],
   "source": [
    "df.ix['20180823'] = np.nan\n",
    "print(df)"
   ]
  },
  {
   "cell_type": "markdown",
   "metadata": {},
   "source": [
    "## 5.Pandas处理丢失数据"
   ]
  },
  {
   "cell_type": "markdown",
   "metadata": {},
   "source": [
    "### 5.1 创建含NaN的矩阵"
   ]
  },
  {
   "cell_type": "code",
   "execution_count": 96,
   "metadata": {},
   "outputs": [
    {
     "name": "stdout",
     "output_type": "stream",
     "text": [
      "             A   B   C   D\n",
      "2018-08-20   0   1   2   3\n",
      "2018-08-21   4   5   6   7\n",
      "2018-08-22   8   9  10  11\n",
      "2018-08-23  12  13  14  15\n",
      "2018-08-24  16  17  18  19\n",
      "2018-08-25  20  21  22  23\n"
     ]
    }
   ],
   "source": [
    "# Pandas处理丢失数据\n",
    "import pandas as pd\n",
    "import numpy as np\n",
    "# 创建含NaN的矩阵\n",
    "# 如何填充和删除NaN数据?\n",
    "dates = pd.date_range('20180820',periods=6)\n",
    "df = pd.DataFrame(np.arange(24).reshape((6,4)),index=dates,columns=['A','B','C','D']) \n",
    "print(df)"
   ]
  },
  {
   "cell_type": "code",
   "execution_count": 114,
   "metadata": {},
   "outputs": [
    {
     "name": "stdout",
     "output_type": "stream",
     "text": [
      "             A     B     C   D\n",
      "2018-08-20   0   NaN   2.0   3\n",
      "2018-08-21   4   5.0   NaN   7\n",
      "2018-08-22   8   9.0  10.0  11\n",
      "2018-08-23  12  13.0  14.0  15\n",
      "2018-08-24  16  17.0  18.0  19\n",
      "2018-08-25  20  21.0  22.0  23\n"
     ]
    }
   ],
   "source": [
    "# a.reshape(6,4)等价于a.reshape((6,4))\n",
    "df.iloc[0,1] = np.nan\n",
    "df.iloc[1,2] = np.nan\n",
    "print(df)"
   ]
  },
  {
   "cell_type": "markdown",
   "metadata": {},
   "source": [
    "### 5.2 删除掉有NaN的行或列"
   ]
  },
  {
   "cell_type": "code",
   "execution_count": 115,
   "metadata": {},
   "outputs": [
    {
     "name": "stdout",
     "output_type": "stream",
     "text": [
      "             A     B     C   D\n",
      "2018-08-22   8   9.0  10.0  11\n",
      "2018-08-23  12  13.0  14.0  15\n",
      "2018-08-24  16  17.0  18.0  19\n",
      "2018-08-25  20  21.0  22.0  23\n"
     ]
    }
   ],
   "source": [
    "# 删除掉有NaN的行或列\n",
    "print(df.dropna()) # 默认是删除掉含有NaN的行"
   ]
  },
  {
   "cell_type": "code",
   "execution_count": 116,
   "metadata": {},
   "outputs": [
    {
     "name": "stdout",
     "output_type": "stream",
     "text": [
      "             A     B     C   D\n",
      "2018-08-22   8   9.0  10.0  11\n",
      "2018-08-23  12  13.0  14.0  15\n",
      "2018-08-24  16  17.0  18.0  19\n",
      "2018-08-25  20  21.0  22.0  23\n"
     ]
    }
   ],
   "source": [
    "print(df.dropna(\n",
    "    axis=0, # 0对行进行操作;1对列进行操作\n",
    "    how='any' # 'any':只要存在NaN就drop掉；'all':必须全部是NaN才drop\n",
    "))"
   ]
  },
  {
   "cell_type": "code",
   "execution_count": 117,
   "metadata": {},
   "outputs": [
    {
     "name": "stdout",
     "output_type": "stream",
     "text": [
      "             A   D\n",
      "2018-08-20   0   3\n",
      "2018-08-21   4   7\n",
      "2018-08-22   8  11\n",
      "2018-08-23  12  15\n",
      "2018-08-24  16  19\n",
      "2018-08-25  20  23\n"
     ]
    }
   ],
   "source": [
    "# 删除掉所有含有NaN的列\n",
    "print(df.dropna(\n",
    "    axis=1,\n",
    "    how='any'\n",
    "))"
   ]
  },
  {
   "cell_type": "markdown",
   "metadata": {},
   "source": [
    "### 5.3 替换NaN值为0或者其他"
   ]
  },
  {
   "cell_type": "code",
   "execution_count": 118,
   "metadata": {},
   "outputs": [
    {
     "name": "stdout",
     "output_type": "stream",
     "text": [
      "             A     B     C   D\n",
      "2018-08-20   0   0.0   2.0   3\n",
      "2018-08-21   4   5.0   0.0   7\n",
      "2018-08-22   8   9.0  10.0  11\n",
      "2018-08-23  12  13.0  14.0  15\n",
      "2018-08-24  16  17.0  18.0  19\n",
      "2018-08-25  20  21.0  22.0  23\n"
     ]
    }
   ],
   "source": [
    "# 替换NaN值为0或者其他\n",
    "print(df.fillna(value=0))"
   ]
  },
  {
   "cell_type": "markdown",
   "metadata": {},
   "source": [
    "### 5.4 是否有缺失数据NaN"
   ]
  },
  {
   "cell_type": "code",
   "execution_count": 121,
   "metadata": {},
   "outputs": [
    {
     "name": "stdout",
     "output_type": "stream",
     "text": [
      "                A      B      C      D\n",
      "2018-08-20  False   True  False  False\n",
      "2018-08-21  False  False   True  False\n",
      "2018-08-22  False  False  False  False\n",
      "2018-08-23  False  False  False  False\n",
      "2018-08-24  False  False  False  False\n",
      "2018-08-25  False  False  False  False\n"
     ]
    }
   ],
   "source": [
    "# 是否有缺失数据NaN\n",
    "# 是否为空\n",
    "print(df.isnull())"
   ]
  },
  {
   "cell_type": "code",
   "execution_count": 122,
   "metadata": {},
   "outputs": [
    {
     "name": "stdout",
     "output_type": "stream",
     "text": [
      "                A      B      C      D\n",
      "2018-08-20  False   True  False  False\n",
      "2018-08-21  False  False   True  False\n",
      "2018-08-22  False  False  False  False\n",
      "2018-08-23  False  False  False  False\n",
      "2018-08-24  False  False  False  False\n",
      "2018-08-25  False  False  False  False\n"
     ]
    }
   ],
   "source": [
    "# 是否为NaN\n",
    "print(df.isna())"
   ]
  },
  {
   "cell_type": "code",
   "execution_count": 126,
   "metadata": {},
   "outputs": [
    {
     "name": "stdout",
     "output_type": "stream",
     "text": [
      "A    False\n",
      "B     True\n",
      "C     True\n",
      "D    False\n",
      "dtype: bool\n",
      "                A      B      C      D\n",
      "2018-08-20  False   True  False  False\n",
      "2018-08-21  False  False   True  False\n",
      "2018-08-22  False  False  False  False\n",
      "2018-08-23  False  False  False  False\n",
      "2018-08-24  False  False  False  False\n",
      "2018-08-25  False  False  False  False\n"
     ]
    }
   ],
   "source": [
    "# 检测某列是否有缺失数据NaN\n",
    "print(df.isnull().any())"
   ]
  },
  {
   "cell_type": "code",
   "execution_count": 127,
   "metadata": {},
   "outputs": [
    {
     "name": "stdout",
     "output_type": "stream",
     "text": [
      "True\n",
      "True\n"
     ]
    }
   ],
   "source": [
    "# 检测数据中是否存在NaN,如果存在就返回True\n",
    "print(np.any(df.isnull())==True)  # np.any(A) A中只要有一个True就返回True "
   ]
  },
  {
   "cell_type": "markdown",
   "metadata": {},
   "source": [
    "## 6.Pandas导入导出"
   ]
  },
  {
   "cell_type": "markdown",
   "metadata": {},
   "source": [
    "### 6.1 导入数据"
   ]
  },
  {
   "cell_type": "code",
   "execution_count": 56,
   "metadata": {},
   "outputs": [
    {
     "name": "stdout",
     "output_type": "stream",
     "text": [
      "    Student ID  name   age  gender\n",
      "0         1100  Kelly   22  Female\n",
      "1         1101    Clo   21  Female\n",
      "2         1102  Tilly   22  Female\n",
      "3         1103   Tony   24    Male\n",
      "4         1104  David   20    Male\n",
      "5         1105  Catty   22  Female\n",
      "6         1106      M    3  Female\n",
      "7         1107      N   43    Male\n",
      "8         1108      A   13    Male\n",
      "9         1109      S   12    Male\n",
      "10        1110  David   33    Male\n",
      "11        1111     Dw    3  Female\n",
      "12        1112      Q   23    Male\n",
      "13        1113      W   21  Female\n"
     ]
    }
   ],
   "source": [
    "import pandas as pd # 加载模块\n",
    "# 读取csv\n",
    "data = pd.read_csv('student.csv')\n",
    "# 打印出data\n",
    "print(data)"
   ]
  },
  {
   "cell_type": "code",
   "execution_count": 57,
   "metadata": {},
   "outputs": [
    {
     "name": "stdout",
     "output_type": "stream",
     "text": [
      "   Student ID  name   age  gender\n",
      "0        1100  Kelly   22  Female\n",
      "1        1101    Clo   21  Female\n",
      "2        1102  Tilly   22  Female\n"
     ]
    }
   ],
   "source": [
    "# 前三行\n",
    "print(data.head(3))"
   ]
  },
  {
   "cell_type": "code",
   "execution_count": 58,
   "metadata": {},
   "outputs": [
    {
     "name": "stdout",
     "output_type": "stream",
     "text": [
      "    Student ID name   age  gender\n",
      "11        1111    Dw    3  Female\n",
      "12        1112     Q   23    Male\n",
      "13        1113     W   21  Female\n"
     ]
    }
   ],
   "source": [
    "# 后三行\n",
    "print(data.tail(3))"
   ]
  },
  {
   "cell_type": "markdown",
   "metadata": {},
   "source": [
    "### 6.2 导出数据"
   ]
  },
  {
   "cell_type": "code",
   "execution_count": 59,
   "metadata": {},
   "outputs": [],
   "source": [
    "# 将资料存取成pickle\n",
    "data.to_pickle('student.pickle')"
   ]
  },
  {
   "cell_type": "code",
   "execution_count": 60,
   "metadata": {},
   "outputs": [
    {
     "name": "stdout",
     "output_type": "stream",
     "text": [
      "    Student ID  name   age  gender\n",
      "0         1100  Kelly   22  Female\n",
      "1         1101    Clo   21  Female\n",
      "2         1102  Tilly   22  Female\n",
      "3         1103   Tony   24    Male\n",
      "4         1104  David   20    Male\n",
      "5         1105  Catty   22  Female\n",
      "6         1106      M    3  Female\n",
      "7         1107      N   43    Male\n",
      "8         1108      A   13    Male\n",
      "9         1109      S   12    Male\n",
      "10        1110  David   33    Male\n",
      "11        1111     Dw    3  Female\n",
      "12        1112      Q   23    Male\n",
      "13        1113      W   21  Female\n"
     ]
    }
   ],
   "source": [
    "# 读取pickle文件并打印\n",
    "print(pd.read_pickle('student.pickle'))"
   ]
  },
  {
   "cell_type": "markdown",
   "metadata": {},
   "source": [
    "## 7.Pandas合并操作"
   ]
  },
  {
   "cell_type": "markdown",
   "metadata": {},
   "source": [
    "### 7.1 Pandas合并concat"
   ]
  },
  {
   "cell_type": "code",
   "execution_count": 61,
   "metadata": {},
   "outputs": [
    {
     "name": "stdout",
     "output_type": "stream",
     "text": [
      "     a    b    c    d\n",
      "0  0.0  0.0  0.0  0.0\n",
      "1  0.0  0.0  0.0  0.0\n",
      "2  0.0  0.0  0.0  0.0\n"
     ]
    }
   ],
   "source": [
    "import pandas as pd\n",
    "import numpy as np\n",
    "\n",
    "# 定义资料集\n",
    "df1 = pd.DataFrame(np.ones((3,4))*0, columns=['a','b','c','d'])\n",
    "df2 = pd.DataFrame(np.ones((3,4))*1, columns=['a','b','c','d'])\n",
    "df3 = pd.DataFrame(np.ones((3,4))*2, columns=['a','b','c','d'])\n",
    "print(df1)"
   ]
  },
  {
   "cell_type": "code",
   "execution_count": 62,
   "metadata": {},
   "outputs": [
    {
     "name": "stdout",
     "output_type": "stream",
     "text": [
      "     a    b    c    d\n",
      "0  1.0  1.0  1.0  1.0\n",
      "1  1.0  1.0  1.0  1.0\n",
      "2  1.0  1.0  1.0  1.0\n"
     ]
    }
   ],
   "source": [
    "print(df2)"
   ]
  },
  {
   "cell_type": "code",
   "execution_count": 63,
   "metadata": {},
   "outputs": [
    {
     "name": "stdout",
     "output_type": "stream",
     "text": [
      "     a    b    c    d\n",
      "0  2.0  2.0  2.0  2.0\n",
      "1  2.0  2.0  2.0  2.0\n",
      "2  2.0  2.0  2.0  2.0\n"
     ]
    }
   ],
   "source": [
    "print(df3)"
   ]
  },
  {
   "cell_type": "code",
   "execution_count": 64,
   "metadata": {},
   "outputs": [
    {
     "name": "stdout",
     "output_type": "stream",
     "text": [
      "     a    b    c    d\n",
      "0  0.0  0.0  0.0  0.0\n",
      "1  0.0  0.0  0.0  0.0\n",
      "2  0.0  0.0  0.0  0.0\n",
      "0  1.0  1.0  1.0  1.0\n",
      "1  1.0  1.0  1.0  1.0\n",
      "2  1.0  1.0  1.0  1.0\n",
      "0  2.0  2.0  2.0  2.0\n",
      "1  2.0  2.0  2.0  2.0\n",
      "2  2.0  2.0  2.0  2.0\n"
     ]
    }
   ],
   "source": [
    "# concat纵向合并\n",
    "res = pd.concat([df1,df2,df3],axis=0)\n",
    "\n",
    "# 打印结果\n",
    "print(res)"
   ]
  },
  {
   "cell_type": "code",
   "execution_count": 65,
   "metadata": {},
   "outputs": [
    {
     "name": "stdout",
     "output_type": "stream",
     "text": [
      "     a    b    c    d\n",
      "0  0.0  0.0  0.0  0.0\n",
      "1  0.0  0.0  0.0  0.0\n",
      "2  0.0  0.0  0.0  0.0\n",
      "3  1.0  1.0  1.0  1.0\n",
      "4  1.0  1.0  1.0  1.0\n",
      "5  1.0  1.0  1.0  1.0\n",
      "6  2.0  2.0  2.0  2.0\n",
      "7  2.0  2.0  2.0  2.0\n",
      "8  2.0  2.0  2.0  2.0\n"
     ]
    }
   ],
   "source": [
    "# 上述合并过程中，index重复，下面给出重置index方法\n",
    "# 只需要将index_ignore设定为True即可\n",
    "res = pd.concat([df1,df2,df3],axis=0,ignore_index=True)\n",
    "\n",
    "# 打印结果\n",
    "print(res)"
   ]
  },
  {
   "cell_type": "code",
   "execution_count": 66,
   "metadata": {},
   "outputs": [
    {
     "name": "stdout",
     "output_type": "stream",
     "text": [
      "     a    b    c    d\n",
      "1  0.0  0.0  0.0  0.0\n",
      "2  0.0  0.0  0.0  0.0\n",
      "3  0.0  0.0  0.0  0.0\n"
     ]
    }
   ],
   "source": [
    "# join 合并方式\n",
    "#定义资料集\n",
    "df1 = pd.DataFrame(np.ones((3,4))*0, columns=['a','b','c','d'], index=[1,2,3])\n",
    "df2 = pd.DataFrame(np.ones((3,4))*1, columns=['b','c','d','e'], index=[2,3,4])\n",
    "print(df1)"
   ]
  },
  {
   "cell_type": "code",
   "execution_count": 67,
   "metadata": {},
   "outputs": [
    {
     "name": "stdout",
     "output_type": "stream",
     "text": [
      "     b    c    d    e\n",
      "2  1.0  1.0  1.0  1.0\n",
      "3  1.0  1.0  1.0  1.0\n",
      "4  1.0  1.0  1.0  1.0\n"
     ]
    }
   ],
   "source": [
    "print(df2)"
   ]
  },
  {
   "cell_type": "code",
   "execution_count": 68,
   "metadata": {},
   "outputs": [
    {
     "name": "stdout",
     "output_type": "stream",
     "text": [
      "     a    b    c    d    e\n",
      "1  0.0  0.0  0.0  0.0  NaN\n",
      "2  0.0  0.0  0.0  0.0  NaN\n",
      "3  0.0  0.0  0.0  0.0  NaN\n",
      "2  NaN  1.0  1.0  1.0  1.0\n",
      "3  NaN  1.0  1.0  1.0  1.0\n",
      "4  NaN  1.0  1.0  1.0  1.0\n"
     ]
    }
   ],
   "source": [
    "'''\n",
    "join='outer',函数默认为join='outer'。此方法是依照column来做纵向合并，有相同的column上下合并在一起，\n",
    "其他独自的column各自成列，原来没有值的位置皆为NaN填充。\n",
    "'''\n",
    "# 纵向\"外\"合并df1与df2\n",
    "res = pd.concat([df1,df2],axis=0,join='outer')\n",
    "\n",
    "print(res)"
   ]
  },
  {
   "cell_type": "code",
   "execution_count": 69,
   "metadata": {},
   "outputs": [
    {
     "name": "stdout",
     "output_type": "stream",
     "text": [
      "     a    b    c    d    e\n",
      "0  0.0  0.0  0.0  0.0  NaN\n",
      "1  0.0  0.0  0.0  0.0  NaN\n",
      "2  0.0  0.0  0.0  0.0  NaN\n",
      "3  NaN  1.0  1.0  1.0  1.0\n",
      "4  NaN  1.0  1.0  1.0  1.0\n",
      "5  NaN  1.0  1.0  1.0  1.0\n"
     ]
    }
   ],
   "source": [
    "# 修改index\n",
    "res = pd.concat([df1,df2],axis=0,join='outer',ignore_index=True)\n",
    "\n",
    "print(res)"
   ]
  },
  {
   "cell_type": "code",
   "execution_count": 70,
   "metadata": {},
   "outputs": [
    {
     "name": "stdout",
     "output_type": "stream",
     "text": [
      "     b    c    d\n",
      "1  0.0  0.0  0.0\n",
      "2  0.0  0.0  0.0\n",
      "3  0.0  0.0  0.0\n",
      "2  1.0  1.0  1.0\n",
      "3  1.0  1.0  1.0\n",
      "4  1.0  1.0  1.0\n"
     ]
    }
   ],
   "source": [
    "# join='inner'合并相同的字段\n",
    "# 纵向\"内\"合并df1与df2\n",
    "res = pd.concat([df1,df2],axis=0,join='inner')\n",
    "# 打印结果\n",
    "print(res)"
   ]
  },
  {
   "cell_type": "code",
   "execution_count": 71,
   "metadata": {},
   "outputs": [
    {
     "name": "stdout",
     "output_type": "stream",
     "text": [
      "     a    b    c    d\n",
      "1  0.0  0.0  0.0  0.0\n",
      "2  0.0  0.0  0.0  0.0\n",
      "3  0.0  0.0  0.0  0.0\n"
     ]
    }
   ],
   "source": [
    "# join_axes(依照axes合并)\n",
    "#定义资料集\n",
    "df1 = pd.DataFrame(np.ones((3,4))*0, columns=['a','b','c','d'], index=[1,2,3])\n",
    "df2 = pd.DataFrame(np.ones((3,4))*1, columns=['b','c','d','e'], index=[2,3,4])\n",
    "print(df1)"
   ]
  },
  {
   "cell_type": "code",
   "execution_count": 72,
   "metadata": {},
   "outputs": [
    {
     "name": "stdout",
     "output_type": "stream",
     "text": [
      "     b    c    d    e\n",
      "2  1.0  1.0  1.0  1.0\n",
      "3  1.0  1.0  1.0  1.0\n",
      "4  1.0  1.0  1.0  1.0\n"
     ]
    }
   ],
   "source": [
    "print(df2)"
   ]
  },
  {
   "cell_type": "code",
   "execution_count": 73,
   "metadata": {},
   "outputs": [
    {
     "name": "stdout",
     "output_type": "stream",
     "text": [
      "     a    b    c    d    b    c    d    e\n",
      "1  0.0  0.0  0.0  0.0  NaN  NaN  NaN  NaN\n",
      "2  0.0  0.0  0.0  0.0  1.0  1.0  1.0  1.0\n",
      "3  0.0  0.0  0.0  0.0  1.0  1.0  1.0  1.0\n"
     ]
    }
   ],
   "source": [
    "# 依照df1.index进行横向合并\n",
    "res = pd.concat([df1,df2],axis=1,join_axes=[df1.index])\n",
    "print(res)"
   ]
  },
  {
   "cell_type": "code",
   "execution_count": 74,
   "metadata": {},
   "outputs": [
    {
     "name": "stdout",
     "output_type": "stream",
     "text": [
      "     a    b    c    d    b    c    d    e\n",
      "1  0.0  0.0  0.0  0.0  NaN  NaN  NaN  NaN\n",
      "2  0.0  0.0  0.0  0.0  1.0  1.0  1.0  1.0\n",
      "3  0.0  0.0  0.0  0.0  1.0  1.0  1.0  1.0\n",
      "4  NaN  NaN  NaN  NaN  1.0  1.0  1.0  1.0\n"
     ]
    }
   ],
   "source": [
    "# 移除join_axes参数,打印结果\n",
    "res = pd.concat([df1,df2],axis=1)\n",
    "print(res)"
   ]
  },
  {
   "cell_type": "code",
   "execution_count": 75,
   "metadata": {},
   "outputs": [
    {
     "name": "stdout",
     "output_type": "stream",
     "text": [
      "     a    b    c    d\n",
      "0  0.0  0.0  0.0  0.0\n",
      "1  0.0  0.0  0.0  0.0\n",
      "2  0.0  0.0  0.0  0.0\n",
      "3  1.0  1.0  1.0  1.0\n",
      "4  1.0  1.0  1.0  1.0\n",
      "5  1.0  1.0  1.0  1.0\n"
     ]
    }
   ],
   "source": [
    "# append(添加数据)\n",
    "# append只有纵向合并，没有横向合并\n",
    "#定义资料集\n",
    "df1 = pd.DataFrame(np.ones((3,4))*0, columns=['a','b','c','d'])\n",
    "df2 = pd.DataFrame(np.ones((3,4))*1, columns=['a','b','c','d'])\n",
    "df3 = pd.DataFrame(np.ones((3,4))*2, columns=['a','b','c','d'])\n",
    "s1 = pd.Series([1,2,3,4], index=['a','b','c','d'])\n",
    "# 将df2合并到df1下面,以及重置index,并打印出结果\n",
    "res = df1.append(df2,ignore_index=True)\n",
    "print(res)"
   ]
  },
  {
   "cell_type": "code",
   "execution_count": 76,
   "metadata": {},
   "outputs": [
    {
     "name": "stdout",
     "output_type": "stream",
     "text": [
      "     a    b    c    d\n",
      "0  0.0  0.0  0.0  0.0\n",
      "1  0.0  0.0  0.0  0.0\n",
      "2  0.0  0.0  0.0  0.0\n",
      "3  1.0  1.0  1.0  1.0\n",
      "4  1.0  1.0  1.0  1.0\n",
      "5  1.0  1.0  1.0  1.0\n",
      "6  2.0  2.0  2.0  2.0\n",
      "7  2.0  2.0  2.0  2.0\n",
      "8  2.0  2.0  2.0  2.0\n"
     ]
    }
   ],
   "source": [
    "# 合并多个df,将df2与df3合并至df1的下面,以及重置index,并打印出结果\n",
    "res = df1.append([df2,df3], ignore_index=True)\n",
    "print(res)"
   ]
  },
  {
   "cell_type": "code",
   "execution_count": 77,
   "metadata": {},
   "outputs": [
    {
     "name": "stdout",
     "output_type": "stream",
     "text": [
      "     a    b    c    d\n",
      "0  0.0  0.0  0.0  0.0\n",
      "1  0.0  0.0  0.0  0.0\n",
      "2  0.0  0.0  0.0  0.0\n",
      "3  1.0  2.0  3.0  4.0\n"
     ]
    }
   ],
   "source": [
    "# 合并series,将s1合并至df1，以及重置index，并打印结果\n",
    "res = df1.append(s1,ignore_index=True)\n",
    "print(res)"
   ]
  },
  {
   "cell_type": "code",
   "execution_count": 78,
   "metadata": {},
   "outputs": [
    {
     "name": "stdout",
     "output_type": "stream",
     "text": [
      "     a    b    c    d\n",
      "0  0.0  0.0  0.0  0.0\n",
      "1  0.0  0.0  0.0  0.0\n",
      "2  0.0  0.0  0.0  0.0\n",
      "3  1.0  1.0  1.0  1.0\n",
      "4  1.0  1.0  1.0  1.0\n",
      "5  1.0  1.0  1.0  1.0\n",
      "6  2.0  2.0  2.0  2.0\n",
      "7  2.0  2.0  2.0  2.0\n",
      "8  2.0  2.0  2.0  2.0\n",
      "     a    b    c    d\n",
      "0  0.0  0.0  0.0  0.0\n",
      "1  0.0  0.0  0.0  0.0\n",
      "2  0.0  0.0  0.0  0.0\n",
      "3  1.0  1.0  1.0  1.0\n",
      "4  1.0  1.0  1.0  1.0\n",
      "5  1.0  1.0  1.0  1.0\n",
      "6  2.0  2.0  2.0  2.0\n",
      "7  2.0  2.0  2.0  2.0\n",
      "8  2.0  2.0  2.0  2.0\n"
     ]
    }
   ],
   "source": [
    "# 总结:两种常用合并方式\n",
    "res = pd.concat([df1, df2, df3], axis=0, ignore_index=True)\n",
    "res1 = df1.append([df2, df3], ignore_index=True)\n",
    "print(res)\n",
    "print(res1)"
   ]
  },
  {
   "cell_type": "markdown",
   "metadata": {},
   "source": [
    "### 7.2.Pandas 合并 merge"
   ]
  },
  {
   "cell_type": "markdown",
   "metadata": {},
   "source": [
    "#### 7.2.1 定义资料集并打印出"
   ]
  },
  {
   "cell_type": "code",
   "execution_count": 128,
   "metadata": {},
   "outputs": [
    {
     "name": "stdout",
     "output_type": "stream",
     "text": [
      "  key   A   B\n",
      "0  K0  A0  B0\n",
      "1  K1  A1  B1\n",
      "2  K2  A2  B2\n",
      "3  K3  A3  B3\n"
     ]
    }
   ],
   "source": [
    "import pandas as pd\n",
    "# 依据一组key合并\n",
    "# 定义资料集并打印出\n",
    "left = pd.DataFrame({'key' : ['K0','K1','K2','K3'],\n",
    "                     'A' : ['A0','A1','A2','A3'],\n",
    "                     'B' : ['B0','B1','B2','B3']})\n",
    "\n",
    "right = pd.DataFrame({'key': ['K0', 'K1', 'K2', 'K3'],\n",
    "                      'C' : ['C0', 'C1', 'C2', 'C3'],\n",
    "                      'D' : ['D0', 'D1', 'D2', 'D3']})\n",
    "print(left)"
   ]
  },
  {
   "cell_type": "code",
   "execution_count": 129,
   "metadata": {},
   "outputs": [
    {
     "name": "stdout",
     "output_type": "stream",
     "text": [
      "  key   C   D\n",
      "0  K0  C0  D0\n",
      "1  K1  C1  D1\n",
      "2  K2  C2  D2\n",
      "3  K3  C3  D3\n"
     ]
    }
   ],
   "source": [
    "print(right)"
   ]
  },
  {
   "cell_type": "markdown",
   "metadata": {},
   "source": [
    "#### 7.2.2 依据key column合并,并打印"
   ]
  },
  {
   "cell_type": "code",
   "execution_count": 130,
   "metadata": {},
   "outputs": [
    {
     "name": "stdout",
     "output_type": "stream",
     "text": [
      "  key   A   B   C   D\n",
      "0  K0  A0  B0  C0  D0\n",
      "1  K1  A1  B1  C1  D1\n",
      "2  K2  A2  B2  C2  D2\n",
      "3  K3  A3  B3  C3  D3\n"
     ]
    }
   ],
   "source": [
    "# 依据key column合并,并打印\n",
    "res = pd.merge(left,right,on='key')\n",
    "print(res)"
   ]
  },
  {
   "cell_type": "code",
   "execution_count": 131,
   "metadata": {},
   "outputs": [
    {
     "name": "stdout",
     "output_type": "stream",
     "text": [
      "  key1 key2   A   B\n",
      "0   K0   K0  A0  B0\n",
      "1   K0   K1  A1  B1\n",
      "2   K1   K0  A2  B2\n",
      "3   K2   K1  A3  B3\n"
     ]
    }
   ],
   "source": [
    "#  依据两组key合并\n",
    "#定义资料集并打印出\n",
    "left = pd.DataFrame({'key1': ['K0', 'K0', 'K1', 'K2'],\n",
    "                      'key2': ['K0', 'K1', 'K0', 'K1'],\n",
    "                      'A': ['A0', 'A1', 'A2', 'A3'],\n",
    "                      'B': ['B0', 'B1', 'B2', 'B3']})\n",
    "right = pd.DataFrame({'key1': ['K0', 'K1', 'K1', 'K2'],\n",
    "                       'key2': ['K0', 'K0', 'K0', 'K0'],\n",
    "                       'C': ['C0', 'C1', 'C2', 'C3'],\n",
    "                       'D': ['D0', 'D1', 'D2', 'D3']})\n",
    "print(left)"
   ]
  },
  {
   "cell_type": "code",
   "execution_count": 132,
   "metadata": {},
   "outputs": [
    {
     "name": "stdout",
     "output_type": "stream",
     "text": [
      "  key1 key2   C   D\n",
      "0   K0   K0  C0  D0\n",
      "1   K1   K0  C1  D1\n",
      "2   K1   K0  C2  D2\n",
      "3   K2   K0  C3  D3\n"
     ]
    }
   ],
   "source": [
    "print(right)"
   ]
  },
  {
   "cell_type": "markdown",
   "metadata": {},
   "source": [
    "#### 7.2.3 两列合并"
   ]
  },
  {
   "cell_type": "code",
   "execution_count": 136,
   "metadata": {},
   "outputs": [
    {
     "name": "stdout",
     "output_type": "stream",
     "text": [
      "  key1 key2   A   B   C   D\n",
      "0   K0   K0  A0  B0  C0  D0\n",
      "1   K1   K0  A2  B2  C1  D1\n",
      "2   K1   K0  A2  B2  C2  D2\n"
     ]
    }
   ],
   "source": [
    "# 依据key1与key2 columns进行合并，并打印出四种结果['left', 'right', 'outer', 'inner'] 类似Sql的连接\n",
    "res = pd.merge(left, right, on=['key1', 'key2'], how='inner')\n",
    "print(res)"
   ]
  },
  {
   "cell_type": "code",
   "execution_count": 137,
   "metadata": {},
   "outputs": [
    {
     "name": "stdout",
     "output_type": "stream",
     "text": [
      "  key1 key2    A    B    C    D\n",
      "0   K0   K0   A0   B0   C0   D0\n",
      "1   K0   K1   A1   B1  NaN  NaN\n",
      "2   K1   K0   A2   B2   C1   D1\n",
      "3   K1   K0   A2   B2   C2   D2\n",
      "4   K2   K1   A3   B3  NaN  NaN\n",
      "5   K2   K0  NaN  NaN   C3   D3\n"
     ]
    }
   ],
   "source": [
    "res = pd.merge(left, right, on=['key1', 'key2'], how='outer')\n",
    "print(res)"
   ]
  },
  {
   "cell_type": "code",
   "execution_count": 138,
   "metadata": {},
   "outputs": [
    {
     "name": "stdout",
     "output_type": "stream",
     "text": [
      "  key1 key2   A   B    C    D\n",
      "0   K0   K0  A0  B0   C0   D0\n",
      "1   K0   K1  A1  B1  NaN  NaN\n",
      "2   K1   K0  A2  B2   C1   D1\n",
      "3   K1   K0  A2  B2   C2   D2\n",
      "4   K2   K1  A3  B3  NaN  NaN\n"
     ]
    }
   ],
   "source": [
    "res = pd.merge(left, right, on=['key1', 'key2'], how='left')\n",
    "print(res)"
   ]
  },
  {
   "cell_type": "code",
   "execution_count": 139,
   "metadata": {},
   "outputs": [
    {
     "name": "stdout",
     "output_type": "stream",
     "text": [
      "  key1 key2    A    B   C   D\n",
      "0   K0   K0   A0   B0  C0  D0\n",
      "1   K1   K0   A2   B2  C1  D1\n",
      "2   K1   K0   A2   B2  C2  D2\n",
      "3   K2   K0  NaN  NaN  C3  D3\n"
     ]
    }
   ],
   "source": [
    "res = pd.merge(left, right, on=['key1', 'key2'], how='right')\n",
    "print(res)"
   ]
  },
  {
   "cell_type": "markdown",
   "metadata": {},
   "source": [
    "#### 7.2.4 Indicator设置合并列名称"
   ]
  },
  {
   "cell_type": "code",
   "execution_count": 134,
   "metadata": {},
   "outputs": [
    {
     "name": "stdout",
     "output_type": "stream",
     "text": [
      "   col1 col_left\n",
      "0     0        a\n",
      "1     1        b\n"
     ]
    }
   ],
   "source": [
    "# Indicator\n",
    "df1 = pd.DataFrame({'col1':[0,1],'col_left':['a','b']})\n",
    "df2 = pd.DataFrame({'col1':[1,2,2],'col_right':[2,2,2]})\n",
    "print(df1)"
   ]
  },
  {
   "cell_type": "code",
   "execution_count": 135,
   "metadata": {},
   "outputs": [
    {
     "name": "stdout",
     "output_type": "stream",
     "text": [
      "   col1  col_right\n",
      "0     1          2\n",
      "1     2          2\n",
      "2     2          2\n"
     ]
    }
   ],
   "source": [
    "print(df2)"
   ]
  },
  {
   "cell_type": "code",
   "execution_count": 90,
   "metadata": {},
   "outputs": [
    {
     "name": "stdout",
     "output_type": "stream",
     "text": [
      "   col1 col_left  col_right      _merge\n",
      "0     0        a        NaN   left_only\n",
      "1     1        b        2.0        both\n",
      "2     2      NaN        2.0  right_only\n",
      "3     2      NaN        2.0  right_only\n"
     ]
    }
   ],
   "source": [
    "# 依据col1进行合并,并启用indicator=True,最后打印\n",
    "res = pd.merge(df1,df2,on='col1',how='outer',indicator=True)\n",
    "print(res)"
   ]
  },
  {
   "cell_type": "code",
   "execution_count": 91,
   "metadata": {},
   "outputs": [
    {
     "name": "stdout",
     "output_type": "stream",
     "text": [
      "   col1 col_left  col_right indicator_column\n",
      "0     0        a        NaN        left_only\n",
      "1     1        b        2.0             both\n",
      "2     2      NaN        2.0       right_only\n",
      "3     2      NaN        2.0       right_only\n"
     ]
    }
   ],
   "source": [
    "# 自定义indicator column的名称,并打印出\n",
    "res = pd.merge(df1,df2,on='col1',how='outer',indicator='indicator_column')\n",
    "print(res)"
   ]
  },
  {
   "cell_type": "markdown",
   "metadata": {},
   "source": [
    "#### 7.2.5 依据index合并"
   ]
  },
  {
   "cell_type": "code",
   "execution_count": 140,
   "metadata": {},
   "outputs": [
    {
     "name": "stdout",
     "output_type": "stream",
     "text": [
      "     A   B\n",
      "K0  A0  B0\n",
      "K1  A1  B1\n",
      "K2  A2  B2\n"
     ]
    }
   ],
   "source": [
    "# 依据index合并\n",
    "#定义资料集并打印出\n",
    "left = pd.DataFrame({'A': ['A0', 'A1', 'A2'],\n",
    "                     'B': ['B0', 'B1', 'B2']},\n",
    "                     index=['K0', 'K1', 'K2'])\n",
    "right = pd.DataFrame({'C': ['C0', 'C2', 'C3'],\n",
    "                      'D': ['D0', 'D2', 'D3']},\n",
    "                     index=['K0', 'K2', 'K3'])\n",
    "print(left)"
   ]
  },
  {
   "cell_type": "code",
   "execution_count": 141,
   "metadata": {},
   "outputs": [
    {
     "name": "stdout",
     "output_type": "stream",
     "text": [
      "     C   D\n",
      "K0  C0  D0\n",
      "K2  C2  D2\n",
      "K3  C3  D3\n"
     ]
    }
   ],
   "source": [
    "print(right)"
   ]
  },
  {
   "cell_type": "code",
   "execution_count": 144,
   "metadata": {},
   "outputs": [
    {
     "name": "stdout",
     "output_type": "stream",
     "text": [
      "      A    B    C    D\n",
      "K0   A0   B0   C0   D0\n",
      "K1   A1   B1  NaN  NaN\n",
      "K2   A2   B2   C2   D2\n",
      "K3  NaN  NaN   C3   D3\n"
     ]
    }
   ],
   "source": [
    "# 依据左右资料集的index进行合并,how='outer',并打印\n",
    "res = pd.merge(left,right,left_index=True,right_index=True,how='outer')\n",
    "print(res)"
   ]
  },
  {
   "cell_type": "code",
   "execution_count": 145,
   "metadata": {},
   "outputs": [
    {
     "name": "stdout",
     "output_type": "stream",
     "text": [
      "     A   B   C   D\n",
      "K0  A0  B0  C0  D0\n",
      "K2  A2  B2  C2  D2\n"
     ]
    }
   ],
   "source": [
    "# 依据左右资料集的index进行合并,how='inner',并打印\n",
    "res = pd.merge(left,right,left_index=True,right_index=True,how='inner')\n",
    "print(res)"
   ]
  },
  {
   "cell_type": "markdown",
   "metadata": {},
   "source": [
    "#### 7.2.6 解决overlapping的问题"
   ]
  },
  {
   "cell_type": "code",
   "execution_count": 146,
   "metadata": {},
   "outputs": [
    {
     "name": "stdout",
     "output_type": "stream",
     "text": [
      "    k  age\n",
      "0  K0    1\n",
      "1  K1    2\n",
      "2  K2    3\n"
     ]
    }
   ],
   "source": [
    "# 解决overlapping的问题\n",
    "#定义资料集\n",
    "boys = pd.DataFrame({'k': ['K0', 'K1', 'K2'], 'age': [1, 2, 3]})\n",
    "girls = pd.DataFrame({'k': ['K0', 'K0', 'K3'], 'age': [4, 5, 6]})\n",
    "print(boys)"
   ]
  },
  {
   "cell_type": "code",
   "execution_count": 147,
   "metadata": {},
   "outputs": [
    {
     "name": "stdout",
     "output_type": "stream",
     "text": [
      "    k  age\n",
      "0  K0    4\n",
      "1  K0    5\n",
      "2  K3    6\n"
     ]
    }
   ],
   "source": [
    "print(girls)"
   ]
  },
  {
   "cell_type": "code",
   "execution_count": 152,
   "metadata": {},
   "outputs": [
    {
     "name": "stdout",
     "output_type": "stream",
     "text": [
      "    k  age_x  age_y\n",
      "0  K0      1      4\n",
      "1  K0      1      5\n",
      "    k  age_boy  age_girl\n",
      "0  K0        1         4\n",
      "1  K0        1         5\n"
     ]
    }
   ],
   "source": [
    "# 使用suffixes解决overlapping的问题\n",
    "# 比如将上面两个合并时,age重复了,则可通过suffixes设置,以此保证不重复,不同名\n",
    "res = pd.merge(boys,girls,on='k',how='inner')\n",
    "print(res)\n",
    "res = pd.merge(boys,girls,on='k',suffixes=['_boy','_girl'],how='inner')\n",
    "print(res)"
   ]
  },
  {
   "cell_type": "markdown",
   "metadata": {},
   "source": [
    "## 8.Pandas plot出图"
   ]
  },
  {
   "cell_type": "code",
   "execution_count": 153,
   "metadata": {},
   "outputs": [
    {
     "name": "stdout",
     "output_type": "stream",
     "text": [
      "0      0.948705\n",
      "1     -0.281953\n",
      "2      0.966030\n",
      "3      0.396699\n",
      "4     -0.724351\n",
      "5     -2.338688\n",
      "6      0.032254\n",
      "7      0.096360\n",
      "8     -0.319396\n",
      "9     -1.977744\n",
      "10    -0.526966\n",
      "11    -1.042861\n",
      "12    -1.134357\n",
      "13     0.056579\n",
      "14     0.056180\n",
      "15    -0.361297\n",
      "16     0.922852\n",
      "17    -0.674928\n",
      "18     1.199510\n",
      "19    -0.305833\n",
      "20     0.149566\n",
      "21     0.005472\n",
      "22     0.345836\n",
      "23     1.924868\n",
      "24    -1.232516\n",
      "25     0.220153\n",
      "26     0.268537\n",
      "27    -0.179570\n",
      "28     0.764425\n",
      "29    -0.192732\n",
      "         ...   \n",
      "970    0.336212\n",
      "971   -0.470070\n",
      "972   -0.376686\n",
      "973    0.527958\n",
      "974   -0.972326\n",
      "975    0.156745\n",
      "976    0.388987\n",
      "977    0.895000\n",
      "978    0.117851\n",
      "979    0.450278\n",
      "980   -0.057404\n",
      "981   -2.240081\n",
      "982   -0.508655\n",
      "983   -0.339227\n",
      "984   -1.358240\n",
      "985    0.477302\n",
      "986   -0.782922\n",
      "987   -0.837819\n",
      "988    0.459247\n",
      "989    1.100763\n",
      "990    0.432749\n",
      "991   -0.222682\n",
      "992   -1.216938\n",
      "993    0.718234\n",
      "994   -0.078657\n",
      "995    1.250636\n",
      "996    1.383705\n",
      "997    0.063825\n",
      "998   -1.847782\n",
      "999    0.101427\n",
      "Length: 1000, dtype: float64\n"
     ]
    }
   ],
   "source": [
    "import pandas as pd\n",
    "import numpy as np\n",
    "import matplotlib.pyplot as plt\n",
    "\n",
    "data = pd.Series(np.random.randn(1000), index=np.arange(1000))\n",
    "print(data)"
   ]
  },
  {
   "cell_type": "code",
   "execution_count": 154,
   "metadata": {},
   "outputs": [
    {
     "name": "stdout",
     "output_type": "stream",
     "text": [
      "0       0.948705\n",
      "1       0.666753\n",
      "2       1.632782\n",
      "3       2.029482\n",
      "4       1.305130\n",
      "5      -1.033558\n",
      "6      -1.001304\n",
      "7      -0.904943\n",
      "8      -1.224339\n",
      "9      -3.202083\n",
      "10     -3.729050\n",
      "11     -4.771910\n",
      "12     -5.906267\n",
      "13     -5.849688\n",
      "14     -5.793508\n",
      "15     -6.154805\n",
      "16     -5.231952\n",
      "17     -5.906880\n",
      "18     -4.707370\n",
      "19     -5.013203\n",
      "20     -4.863637\n",
      "21     -4.858165\n",
      "22     -4.512329\n",
      "23     -2.587461\n",
      "24     -3.819977\n",
      "25     -3.599824\n",
      "26     -3.331287\n",
      "27     -3.510857\n",
      "28     -2.746432\n",
      "29     -2.939164\n",
      "         ...    \n",
      "970    14.315482\n",
      "971    13.845412\n",
      "972    13.468725\n",
      "973    13.996684\n",
      "974    13.024358\n",
      "975    13.181103\n",
      "976    13.570089\n",
      "977    14.465089\n",
      "978    14.582940\n",
      "979    15.033218\n",
      "980    14.975814\n",
      "981    12.735733\n",
      "982    12.227078\n",
      "983    11.887851\n",
      "984    10.529611\n",
      "985    11.006913\n",
      "986    10.223991\n",
      "987     9.386172\n",
      "988     9.845419\n",
      "989    10.946182\n",
      "990    11.378931\n",
      "991    11.156250\n",
      "992     9.939312\n",
      "993    10.657546\n",
      "994    10.578889\n",
      "995    11.829524\n",
      "996    13.213229\n",
      "997    13.277055\n",
      "998    11.429272\n",
      "999    11.530700\n",
      "Length: 1000, dtype: float64\n"
     ]
    }
   ],
   "source": [
    "print(data.cumsum())  # 累计求和"
   ]
  },
  {
   "cell_type": "code",
   "execution_count": 101,
   "metadata": {},
   "outputs": [
    {
     "data": {
      "image/png": "[encoded data removed]",
      "text/plain": [
       "<matplotlib.figure.Figure at 0x1f5de979fd0>"
      ]
     },
     "metadata": {},
     "output_type": "display_data"
    }
   ],
   "source": [
    "# data本来就是一个数据，所以我们可以直接plot\n",
    "data.plot()\n",
    "plt.show()"
   ]
  },
  {
   "cell_type": "code",
   "execution_count": 155,
   "metadata": {},
   "outputs": [
    {
     "data": {
      "image/png": "[encoded data removed]",
      "text/plain": [
       "<Figure size 432x288 with 1 Axes>"
      ]
     },
     "metadata": {},
     "output_type": "display_data"
    }
   ],
   "source": [
    "# np.random.randn(1000,4) 随机生成1000行4列数据\n",
    "# list(\"ABCD\")会变为['A','B','C','D']\n",
    "data = pd.DataFrame(\n",
    "    np.random.randn(1000,4),\n",
    "    index=np.arange(1000),\n",
    "    columns=list(\"ABCD\")\n",
    ")\n",
    "data.cumsum()\n",
    "data.plot()\n",
    "plt.show()"
   ]
  },
  {
   "cell_type": "code",
   "execution_count": 156,
   "metadata": {},
   "outputs": [
    {
     "data": {
      "image/png": "[encoded data removed]",
      "text/plain": [
       "<Figure size 432x288 with 1 Axes>"
      ]
     },
     "metadata": {},
     "output_type": "display_data"
    }
   ],
   "source": [
    "ax = data.plot.scatter(x='A',y='B',color='DarkBlue',label='Class1')\n",
    "# 将之下这个 data 画在上一个 ax 上面\n",
    "data.plot.scatter(x='A',y='C',color='LightGreen',label='Class2',ax=ax)\n",
    "plt.show()"
   ]
  },
  {
   "cell_type": "markdown",
   "metadata": {},
   "source": [
    "## 9.学习来源"
   ]
  },
  {
   "cell_type": "markdown",
   "metadata": {},
   "source": [
    "https://morvanzhou.github.io/tutorials/data-manipulation/np-pd/"
   ]
  }
 ],
 "metadata": {
  "kernelspec": {
   "display_name": "Python 3",
   "language": "python",
   "name": "python3"
  },
  "language_info": {
   "codemirror_mode": {
    "name": "ipython",
    "version": 3
   },
   "file_extension": ".py",
   "mimetype": "text/x-python",
   "name": "python",
   "nbconvert_exporter": "python",
   "pygments_lexer": "ipython3",
   "version": "3.6.8"
  }
 },
 "nbformat": 4,
 "nbformat_minor": 2
}
